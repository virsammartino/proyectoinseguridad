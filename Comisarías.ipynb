{
 "cells": [
  {
   "cell_type": "markdown",
   "metadata": {},
   "source": [
    "#### El objetivo de esta notebook es extraer las coordenadas de todas las comisarías en la ciudad"
   ]
  },
  {
   "cell_type": "code",
   "execution_count": 1,
   "metadata": {},
   "outputs": [],
   "source": [
    "# Importamos librerías\n",
    "import numpy as np\n",
    "import pandas as pd"
   ]
  },
  {
   "cell_type": "code",
   "execution_count": 2,
   "metadata": {},
   "outputs": [
    {
     "data": {
      "text/html": [
       "<div>\n",
       "<style scoped>\n",
       "    .dataframe tbody tr th:only-of-type {\n",
       "        vertical-align: middle;\n",
       "    }\n",
       "\n",
       "    .dataframe tbody tr th {\n",
       "        vertical-align: top;\n",
       "    }\n",
       "\n",
       "    .dataframe thead th {\n",
       "        text-align: right;\n",
       "    }\n",
       "</style>\n",
       "<table border=\"1\" class=\"dataframe\">\n",
       "  <thead>\n",
       "    <tr style=\"text-align: right;\">\n",
       "      <th></th>\n",
       "      <th>long</th>\n",
       "      <th>lat</th>\n",
       "      <th>id</th>\n",
       "      <th>nombre</th>\n",
       "      <th>calle</th>\n",
       "      <th>altura</th>\n",
       "      <th>calle2</th>\n",
       "      <th>direccion</th>\n",
       "      <th>telefonos</th>\n",
       "      <th>observaciones</th>\n",
       "      <th>observaciones_2</th>\n",
       "      <th>barrio</th>\n",
       "      <th>comuna</th>\n",
       "      <th>codigo_postal</th>\n",
       "      <th>codigo_postal_argentino</th>\n",
       "    </tr>\n",
       "  </thead>\n",
       "  <tbody>\n",
       "    <tr>\n",
       "      <th>0</th>\n",
       "      <td>-58.373245</td>\n",
       "      <td>-34.601906</td>\n",
       "      <td>1</td>\n",
       "      <td>Comisaria Vecinal 1-D</td>\n",
       "      <td>Lavalle</td>\n",
       "      <td>451</td>\n",
       "      <td>NaN</td>\n",
       "      <td>LAVALLE 451</td>\n",
       "      <td>4322-8033/8221</td>\n",
       "      <td>NaN</td>\n",
       "      <td>NaN</td>\n",
       "      <td>SAN NICOLAS</td>\n",
       "      <td>1</td>\n",
       "      <td>1047.0</td>\n",
       "      <td>C1047AAI</td>\n",
       "    </tr>\n",
       "    <tr>\n",
       "      <th>1</th>\n",
       "      <td>-58.424926</td>\n",
       "      <td>-34.628641</td>\n",
       "      <td>37</td>\n",
       "      <td>Comisaria Vecinal 5-B</td>\n",
       "      <td>Muñiz</td>\n",
       "      <td>1250</td>\n",
       "      <td>NaN</td>\n",
       "      <td>MUÑIZ 1250</td>\n",
       "      <td>4922-1229 /4922-3333</td>\n",
       "      <td>NaN</td>\n",
       "      <td>NaN</td>\n",
       "      <td>BOEDO</td>\n",
       "      <td>5</td>\n",
       "      <td>1255.0</td>\n",
       "      <td>C1255ACD</td>\n",
       "    </tr>\n",
       "    <tr>\n",
       "      <th>2</th>\n",
       "      <td>-58.439501</td>\n",
       "      <td>-34.608979</td>\n",
       "      <td>39</td>\n",
       "      <td>Comisaria Vecinal 6-A</td>\n",
       "      <td>Diaz Velez</td>\n",
       "      <td>5152</td>\n",
       "      <td>NaN</td>\n",
       "      <td>DIAZ VELEZ AV. 5152</td>\n",
       "      <td>4982-4509/4520</td>\n",
       "      <td>NaN</td>\n",
       "      <td>NaN</td>\n",
       "      <td>CABALLITO</td>\n",
       "      <td>6</td>\n",
       "      <td>1405.0</td>\n",
       "      <td>C1405DCT</td>\n",
       "    </tr>\n",
       "  </tbody>\n",
       "</table>\n",
       "</div>"
      ],
      "text/plain": [
       "        long        lat  id                 nombre       calle  altura calle2  \\\n",
       "0 -58.373245 -34.601906   1  Comisaria Vecinal 1-D     Lavalle     451    NaN   \n",
       "1 -58.424926 -34.628641  37  Comisaria Vecinal 5-B       Muñiz    1250    NaN   \n",
       "2 -58.439501 -34.608979  39  Comisaria Vecinal 6-A  Diaz Velez    5152    NaN   \n",
       "\n",
       "             direccion             telefonos observaciones  observaciones_2  \\\n",
       "0          LAVALLE 451        4322-8033/8221           NaN              NaN   \n",
       "1           MUÑIZ 1250  4922-1229 /4922-3333           NaN              NaN   \n",
       "2  DIAZ VELEZ AV. 5152        4982-4509/4520           NaN              NaN   \n",
       "\n",
       "        barrio  comuna  codigo_postal codigo_postal_argentino  \n",
       "0  SAN NICOLAS       1         1047.0                C1047AAI  \n",
       "1        BOEDO       5         1255.0                C1255ACD  \n",
       "2    CABALLITO       6         1405.0                C1405DCT  "
      ]
     },
     "execution_count": 2,
     "metadata": {},
     "output_type": "execute_result"
    }
   ],
   "source": [
    "# Importamos el dataset y visualizamos\n",
    "comisarias = pd.read_csv('../Data/comisarias-policia-de-la-ciudad.csv')\n",
    "comisarias.head(3)"
   ]
  },
  {
   "cell_type": "code",
   "execution_count": 3,
   "metadata": {},
   "outputs": [
    {
     "name": "stdout",
     "output_type": "stream",
     "text": [
      "<class 'pandas.core.frame.DataFrame'>\n",
      "RangeIndex: 49 entries, 0 to 48\n",
      "Data columns (total 15 columns):\n",
      " #   Column                   Non-Null Count  Dtype  \n",
      "---  ------                   --------------  -----  \n",
      " 0   long                     49 non-null     float64\n",
      " 1   lat                      49 non-null     float64\n",
      " 2   id                       49 non-null     int64  \n",
      " 3   nombre                   49 non-null     object \n",
      " 4   calle                    49 non-null     object \n",
      " 5   altura                   49 non-null     int64  \n",
      " 6   calle2                   1 non-null      object \n",
      " 7   direccion                49 non-null     object \n",
      " 8   telefonos                47 non-null     object \n",
      " 9   observaciones            5 non-null      object \n",
      " 10  observaciones_2          0 non-null      float64\n",
      " 11  barrio                   49 non-null     object \n",
      " 12  comuna                   49 non-null     int64  \n",
      " 13  codigo_postal            46 non-null     float64\n",
      " 14  codigo_postal_argentino  46 non-null     object \n",
      "dtypes: float64(4), int64(3), object(8)\n",
      "memory usage: 5.9+ KB\n"
     ]
    }
   ],
   "source": [
    "# Resumen\n",
    "comisarias.info()"
   ]
  },
  {
   "cell_type": "code",
   "execution_count": 4,
   "metadata": {
    "scrolled": true
   },
   "outputs": [
    {
     "data": {
      "text/html": [
       "<div>\n",
       "<style scoped>\n",
       "    .dataframe tbody tr th:only-of-type {\n",
       "        vertical-align: middle;\n",
       "    }\n",
       "\n",
       "    .dataframe tbody tr th {\n",
       "        vertical-align: top;\n",
       "    }\n",
       "\n",
       "    .dataframe thead th {\n",
       "        text-align: right;\n",
       "    }\n",
       "</style>\n",
       "<table border=\"1\" class=\"dataframe\">\n",
       "  <thead>\n",
       "    <tr style=\"text-align: right;\">\n",
       "      <th></th>\n",
       "      <th>long</th>\n",
       "      <th>lat</th>\n",
       "      <th>id</th>\n",
       "      <th>nombre</th>\n",
       "      <th>calle</th>\n",
       "      <th>altura</th>\n",
       "      <th>calle2</th>\n",
       "      <th>direccion</th>\n",
       "      <th>telefonos</th>\n",
       "      <th>observaciones</th>\n",
       "      <th>observaciones_2</th>\n",
       "      <th>barrio</th>\n",
       "      <th>comuna</th>\n",
       "      <th>codigo_postal</th>\n",
       "      <th>codigo_postal_argentino</th>\n",
       "      <th>lat-lon</th>\n",
       "    </tr>\n",
       "  </thead>\n",
       "  <tbody>\n",
       "    <tr>\n",
       "      <th>11</th>\n",
       "      <td>-58.403227</td>\n",
       "      <td>-34.626032</td>\n",
       "      <td>41</td>\n",
       "      <td>Comisaria Vecinal 3-B</td>\n",
       "      <td>Catamarca</td>\n",
       "      <td>1345</td>\n",
       "      <td>NaN</td>\n",
       "      <td>CATAMARCA 1345</td>\n",
       "      <td>4941-3333/4079</td>\n",
       "      <td>NaN</td>\n",
       "      <td>NaN</td>\n",
       "      <td>SAN CRISTOBAL</td>\n",
       "      <td>3</td>\n",
       "      <td>1246.0</td>\n",
       "      <td>C1246AAC</td>\n",
       "      <td>(-34.626032231837875, -58.4032266269794)</td>\n",
       "    </tr>\n",
       "    <tr>\n",
       "      <th>36</th>\n",
       "      <td>-58.482525</td>\n",
       "      <td>-34.565145</td>\n",
       "      <td>26</td>\n",
       "      <td>Comisaria Vecinal 12-A</td>\n",
       "      <td>Machain</td>\n",
       "      <td>3045</td>\n",
       "      <td>NaN</td>\n",
       "      <td>MACHAIN 3045</td>\n",
       "      <td>4541-8142</td>\n",
       "      <td>NaN</td>\n",
       "      <td>NaN</td>\n",
       "      <td>VILLA URQUIZA</td>\n",
       "      <td>12</td>\n",
       "      <td>1430.0</td>\n",
       "      <td>C1430DYA</td>\n",
       "      <td>(-34.56514509801703, -58.48252544688682)</td>\n",
       "    </tr>\n",
       "    <tr>\n",
       "      <th>5</th>\n",
       "      <td>-58.380178</td>\n",
       "      <td>-34.594643</td>\n",
       "      <td>10</td>\n",
       "      <td>Comisaria Comunal 1</td>\n",
       "      <td>Suipacha</td>\n",
       "      <td>1156</td>\n",
       "      <td>NaN</td>\n",
       "      <td>SUIPACHA 1156</td>\n",
       "      <td>4393-0076/3333/7058</td>\n",
       "      <td>NaN</td>\n",
       "      <td>NaN</td>\n",
       "      <td>RETIRO</td>\n",
       "      <td>1</td>\n",
       "      <td>1008.0</td>\n",
       "      <td>C1008AAX</td>\n",
       "      <td>(-34.59464291225725, -58.380178018988076)</td>\n",
       "    </tr>\n",
       "  </tbody>\n",
       "</table>\n",
       "</div>"
      ],
      "text/plain": [
       "         long        lat  id                  nombre      calle  altura  \\\n",
       "11 -58.403227 -34.626032  41   Comisaria Vecinal 3-B  Catamarca    1345   \n",
       "36 -58.482525 -34.565145  26  Comisaria Vecinal 12-A    Machain    3045   \n",
       "5  -58.380178 -34.594643  10     Comisaria Comunal 1   Suipacha    1156   \n",
       "\n",
       "   calle2       direccion            telefonos observaciones  observaciones_2  \\\n",
       "11    NaN  CATAMARCA 1345       4941-3333/4079           NaN              NaN   \n",
       "36    NaN    MACHAIN 3045            4541-8142           NaN              NaN   \n",
       "5     NaN   SUIPACHA 1156  4393-0076/3333/7058           NaN              NaN   \n",
       "\n",
       "           barrio  comuna  codigo_postal codigo_postal_argentino  \\\n",
       "11  SAN CRISTOBAL       3         1246.0                C1246AAC   \n",
       "36  VILLA URQUIZA      12         1430.0                C1430DYA   \n",
       "5          RETIRO       1         1008.0                C1008AAX   \n",
       "\n",
       "                                      lat-lon  \n",
       "11   (-34.626032231837875, -58.4032266269794)  \n",
       "36   (-34.56514509801703, -58.48252544688682)  \n",
       "5   (-34.59464291225725, -58.380178018988076)  "
      ]
     },
     "execution_count": 4,
     "metadata": {},
     "output_type": "execute_result"
    }
   ],
   "source": [
    "# Creamos una columna que contenga la latitud y longitud simultáneamente\n",
    "comisarias['lat-lon'] = list(zip(comisarias.lat, comisarias.long))\n",
    "comisarias.sample(3)"
   ]
  },
  {
   "cell_type": "code",
   "execution_count": 5,
   "metadata": {
    "scrolled": true
   },
   "outputs": [
    {
     "data": {
      "text/plain": [
       "21     (-34.64479474193998, -58.41715600739127)\n",
       "1       (-34.6286410416508, -58.42492623842034)\n",
       "5     (-34.59464291225725, -58.380178018988076)\n",
       "Name: lat-lon, dtype: object"
      ]
     },
     "execution_count": 5,
     "metadata": {},
     "output_type": "execute_result"
    }
   ],
   "source": [
    "# Nos quedamos solo con los datos de las coordenadas de las comisarías\n",
    "comisarias_coordenadas = comisarias['lat-lon']\n",
    "comisarias_coordenadas.sample(3)"
   ]
  },
  {
   "cell_type": "code",
   "execution_count": 6,
   "metadata": {},
   "outputs": [
    {
     "data": {
      "text/plain": [
       "False    49\n",
       "Name: lat-lon, dtype: int64"
      ]
     },
     "execution_count": 6,
     "metadata": {},
     "output_type": "execute_result"
    }
   ],
   "source": [
    "# Hay valores duplicados?\n",
    "comisarias_coordenadas.duplicated().value_counts()"
   ]
  },
  {
   "cell_type": "code",
   "execution_count": 7,
   "metadata": {},
   "outputs": [
    {
     "data": {
      "text/plain": [
       "0"
      ]
     },
     "execution_count": 7,
     "metadata": {},
     "output_type": "execute_result"
    }
   ],
   "source": [
    "# Hay valores nulos?\n",
    "comisarias_coordenadas.isnull().sum()"
   ]
  },
  {
   "cell_type": "markdown",
   "metadata": {},
   "source": [
    "# Serie lista para pasar: \"comisarias_coordenadas\""
   ]
  },
  {
   "cell_type": "code",
   "execution_count": 8,
   "metadata": {
    "scrolled": true
   },
   "outputs": [
    {
     "data": {
      "text/plain": [
       "0       (-34.60190617496225, -58.37324471219407)\n",
       "1        (-34.6286410416508, -58.42492623842034)\n",
       "2      (-34.60897857012301, -58.439501432968655)\n",
       "3        (-34.6267799123199, -58.44808721258975)\n",
       "4       (-34.62038226566912, -58.45322104235826)\n",
       "5      (-34.59464291225725, -58.380178018988076)\n",
       "6       (-34.62267005036509, -58.38560777288463)\n",
       "7      (-34.591136945873416, -58.39235857682059)\n",
       "8       (-34.62258675877597, -58.39074866828261)\n",
       "9     (-34.594078522593456, -58.406719292030175)\n",
       "10        (-34.620278488629, -58.37414712408447)\n",
       "11      (-34.626032231837875, -58.4032266269794)\n",
       "12      (-34.58773209769253, -58.41592730316615)\n",
       "13    (-34.624279357208245, -58.363990210472046)\n",
       "14      (-34.63416920703777, -58.36058758279343)\n",
       "15     (-34.63806272113112, -58.374908589749076)\n",
       "16     (-34.59932055924757, -58.441084301406406)\n",
       "17       (-34.6019397377213, -58.38889587843118)\n",
       "18      (-34.64728405029203, -58.37472729162052)\n",
       "19      (-34.5733085675013, -58.438955799815425)\n",
       "20     (-34.56014476912708, -58.456284813714504)\n",
       "21      (-34.64479474193998, -58.41715600739127)\n",
       "22      (-34.55137550494904, -58.46332662713954)\n",
       "23       (-34.67735751376321, -58.4542669378969)\n",
       "24      (-34.57311628033793, -58.47582109143319)\n",
       "25       (-34.630923532550966, -58.458256002822)\n",
       "26      (-34.57868946950525, -58.49005740893346)\n",
       "27     (-34.617161610468784, -58.37857749366271)\n",
       "28        (-34.641462310639, -58.47633670650636)\n",
       "29      (-34.6111204124573, -58.472991143527544)\n",
       "30      (-34.66199393122683, -58.50116565735678)\n",
       "31       (-34.62880668537468, -58.4837795082987)\n",
       "32      (-34.629536123433425, -58.5240388490474)\n",
       "33     (-34.598314648539684, -58.51560587747178)\n",
       "34        (-34.58971283495773, -58.499367255482)\n",
       "35      (-34.67903501932798, -58.47488885529078)\n",
       "36      (-34.56514509801703, -58.48252544688682)\n",
       "37      (-34.60341841553561, -58.39478912465725)\n",
       "38      (-34.61611371596697, -58.46482092153075)\n",
       "39     (-34.55482164690124, -58.444068027691536)\n",
       "40     (-34.683121229081834, -58.46894368782272)\n",
       "41     (-34.58126972293359, -58.413658918515395)\n",
       "42      (-34.63996692356713, -58.50508652712802)\n",
       "43      (-34.6032111757525, -58.404010640943014)\n",
       "44     (-34.61705760594242, -58.409279648726304)\n",
       "45     (-34.604428600364265, -58.41555876346776)\n",
       "46     (-34.551103084235464, -58.49090923686367)\n",
       "47     (-34.590420189796575, -58.45123039328284)\n",
       "48      (-34.64194953478277, -58.40283020899447)\n",
       "Name: lat-lon, dtype: object"
      ]
     },
     "execution_count": 8,
     "metadata": {},
     "output_type": "execute_result"
    }
   ],
   "source": [
    "comisarias_coordenadas"
   ]
  },
  {
   "cell_type": "markdown",
   "metadata": {},
   "source": [
    "### Generación de columnas a partir de los datos de coordenadas geográficas\n",
    "\n",
    "En esta parte vamos a generar un conjunto de variables basadas en distancias, para lo cual usaremos las columnas de latitud y longitud del dataframe. En este caso vamos a utilizar el modulo distance de la libreria geopy de Python."
   ]
  },
  {
   "cell_type": "code",
   "execution_count": 9,
   "metadata": {},
   "outputs": [],
   "source": [
    "import geopy.distance as distance"
   ]
  },
  {
   "cell_type": "markdown",
   "metadata": {},
   "source": [
    "*Utilizar los siguientes códigos como referencia para \"jugar\" con las distancias entre los distintos datasets:*"
   ]
  },
  {
   "cell_type": "code",
   "execution_count": 10,
   "metadata": {},
   "outputs": [],
   "source": [
    "# Vamos a generar la variable en una Series aparte para luego si anexarla al DF\n",
    "\n",
    "# props = data_props4['lat-lon']\n",
    "# subte = subtes_raw['lat-lon']\n",
    "\n",
    "# distancia_s = []\n",
    "# for a in props:\n",
    "#     result = [distance.distance(a, j).m for j in subte]\n",
    "#     distancia_s.append(np.min(result))"
   ]
  },
  {
   "cell_type": "code",
   "execution_count": 11,
   "metadata": {},
   "outputs": [],
   "source": [
    "# Agregamos la columna al DF\n",
    "# data_props4['subte'] = distancia_s"
   ]
  },
  {
   "cell_type": "code",
   "execution_count": 12,
   "metadata": {},
   "outputs": [
    {
     "name": "stdout",
     "output_type": "stream",
     "text": [
      "<class 'pandas.core.frame.DataFrame'>\n",
      "RangeIndex: 49 entries, 0 to 48\n",
      "Data columns (total 16 columns):\n",
      " #   Column                   Non-Null Count  Dtype  \n",
      "---  ------                   --------------  -----  \n",
      " 0   long                     49 non-null     float64\n",
      " 1   lat                      49 non-null     float64\n",
      " 2   id                       49 non-null     int64  \n",
      " 3   nombre                   49 non-null     object \n",
      " 4   calle                    49 non-null     object \n",
      " 5   altura                   49 non-null     int64  \n",
      " 6   calle2                   1 non-null      object \n",
      " 7   direccion                49 non-null     object \n",
      " 8   telefonos                47 non-null     object \n",
      " 9   observaciones            5 non-null      object \n",
      " 10  observaciones_2          0 non-null      float64\n",
      " 11  barrio                   49 non-null     object \n",
      " 12  comuna                   49 non-null     int64  \n",
      " 13  codigo_postal            46 non-null     float64\n",
      " 14  codigo_postal_argentino  46 non-null     object \n",
      " 15  lat-lon                  49 non-null     object \n",
      "dtypes: float64(4), int64(3), object(9)\n",
      "memory usage: 6.2+ KB\n"
     ]
    }
   ],
   "source": [
    "comisarias.info()"
   ]
  }
 ],
 "metadata": {
  "kernelspec": {
   "display_name": "Python 3",
   "language": "python",
   "name": "python3"
  },
  "language_info": {
   "codemirror_mode": {
    "name": "ipython",
    "version": 3
   },
   "file_extension": ".py",
   "mimetype": "text/x-python",
   "name": "python",
   "nbconvert_exporter": "python",
   "pygments_lexer": "ipython3",
   "version": "3.7.7"
  }
 },
 "nbformat": 4,
 "nbformat_minor": 4
}
